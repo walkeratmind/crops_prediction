{
 "metadata": {
  "language_info": {
   "codemirror_mode": {
    "name": "ipython",
    "version": 3
   },
   "file_extension": ".py",
   "mimetype": "text/x-python",
   "name": "python",
   "nbconvert_exporter": "python",
   "pygments_lexer": "ipython3",
   "version": "3.9.2-final"
  },
  "orig_nbformat": 2,
  "kernelspec": {
   "name": "python392jvsc74a57bd0f4b02820334822f46c3e841cc5b263dafd98c19fd1e4d661e593540d84776ca0",
   "display_name": "Python 3.9.2 64-bit"
  },
  "metadata": {
   "interpreter": {
    "hash": "f4b02820334822f46c3e841cc5b263dafd98c19fd1e4d661e593540d84776ca0"
   }
  }
 },
 "nbformat": 4,
 "nbformat_minor": 2,
 "cells": [
  {
   "cell_type": "code",
   "execution_count": 1,
   "metadata": {},
   "outputs": [],
   "source": [
    "import numpy as np\n",
    "import pandas as pd"
   ]
  },
  {
   "cell_type": "code",
   "execution_count": 2,
   "metadata": {},
   "outputs": [],
   "source": [
    "stations = pd.read_csv('../input/station_list.csv')"
   ]
  },
  {
   "cell_type": "code",
   "execution_count": 3,
   "metadata": {},
   "outputs": [
    {
     "output_type": "execute_result",
     "data": {
      "text/plain": [
       "       district     formal_name measuring_type        lat       long  \\\n",
       "0        Achham       Mangalsen    Climatology  29.136114  81.250092   \n",
       "1        ACHHAM          SUGALI  PRECIPITATION  29.179807  81.372939   \n",
       "2  Arghakhanchi         SIDHARA  Precipitation  27.794500  82.828383   \n",
       "3  Arghakhanchi    Sandhikharka        Climate  27.964022  83.120569   \n",
       "4         Jhapa   Chnadra Gadhi    Climatology  26.396167  88.003750   \n",
       "5         Jhapa  Gaida (Kankai)  Precipitation  26.689722  87.988611   \n",
       "\n",
       "   elevation (mtr)  \n",
       "0             1310  \n",
       "1             1668  \n",
       "2              371  \n",
       "3             1030  \n",
       "4               71  \n",
       "5              168  "
      ],
      "text/html": "<div>\n<style scoped>\n    .dataframe tbody tr th:only-of-type {\n        vertical-align: middle;\n    }\n\n    .dataframe tbody tr th {\n        vertical-align: top;\n    }\n\n    .dataframe thead th {\n        text-align: right;\n    }\n</style>\n<table border=\"1\" class=\"dataframe\">\n  <thead>\n    <tr style=\"text-align: right;\">\n      <th></th>\n      <th>district</th>\n      <th>formal_name</th>\n      <th>measuring_type</th>\n      <th>lat</th>\n      <th>long</th>\n      <th>elevation (mtr)</th>\n    </tr>\n  </thead>\n  <tbody>\n    <tr>\n      <th>0</th>\n      <td>Achham</td>\n      <td>Mangalsen</td>\n      <td>Climatology</td>\n      <td>29.136114</td>\n      <td>81.250092</td>\n      <td>1310</td>\n    </tr>\n    <tr>\n      <th>1</th>\n      <td>ACHHAM</td>\n      <td>SUGALI</td>\n      <td>PRECIPITATION</td>\n      <td>29.179807</td>\n      <td>81.372939</td>\n      <td>1668</td>\n    </tr>\n    <tr>\n      <th>2</th>\n      <td>Arghakhanchi</td>\n      <td>SIDHARA</td>\n      <td>Precipitation</td>\n      <td>27.794500</td>\n      <td>82.828383</td>\n      <td>371</td>\n    </tr>\n    <tr>\n      <th>3</th>\n      <td>Arghakhanchi</td>\n      <td>Sandhikharka</td>\n      <td>Climate</td>\n      <td>27.964022</td>\n      <td>83.120569</td>\n      <td>1030</td>\n    </tr>\n    <tr>\n      <th>4</th>\n      <td>Jhapa</td>\n      <td>Chnadra Gadhi</td>\n      <td>Climatology</td>\n      <td>26.396167</td>\n      <td>88.003750</td>\n      <td>71</td>\n    </tr>\n    <tr>\n      <th>5</th>\n      <td>Jhapa</td>\n      <td>Gaida (Kankai)</td>\n      <td>Precipitation</td>\n      <td>26.689722</td>\n      <td>87.988611</td>\n      <td>168</td>\n    </tr>\n  </tbody>\n</table>\n</div>"
     },
     "metadata": {},
     "execution_count": 3
    }
   ],
   "source": [
    "stations"
   ]
  },
  {
   "cell_type": "code",
   "execution_count": 30,
   "metadata": {},
   "outputs": [
    {
     "output_type": "execute_result",
     "data": {
      "text/plain": [
       "array([['Achham', 'Mangalsen'],\n",
       "       ['ACHHAM', 'SUGALI'],\n",
       "       ['Arghakhanchi', 'SIDHARA'],\n",
       "       ['Arghakhanchi', 'Sandhikharka'],\n",
       "       ['Jhapa', 'Chnadra Gadhi'],\n",
       "       ['Jhapa', 'Gaida (Kankai)']], dtype=object)"
      ]
     },
     "metadata": {},
     "execution_count": 30
    }
   ],
   "source": [
    "locations = stations[['district', 'formal_name']]\n",
    "locations.values"
   ]
  },
  {
   "cell_type": "code",
   "execution_count": 34,
   "metadata": {},
   "outputs": [
    {
     "output_type": "stream",
     "name": "stdout",
     "text": [
      "Arghakhanchi\n['SIDHARA', 'Sandhikharka']\nJhapa\n['Chnadra Gadhi', 'Gaida (Kankai)']\n"
     ]
    }
   ],
   "source": [
    "p = {}\n",
    "for v in locations.values:\n",
    "    l = []\n",
    "    if v[0] in p.keys():\n",
    "        l = p[v[0]]\n",
    "        l.append(v[1])\n",
    "        print(v[0])\n",
    "        print(p[v[0]])\n",
    "        p[v[0]] = l\n",
    "    else:\n",
    "        p[v[0]] = [v[1]]\n"
   ]
  },
  {
   "cell_type": "code",
   "execution_count": 35,
   "metadata": {},
   "outputs": [
    {
     "output_type": "execute_result",
     "data": {
      "text/plain": [
       "{'Achham': ['Mangalsen'],\n",
       " 'ACHHAM': ['SUGALI'],\n",
       " 'Arghakhanchi': ['SIDHARA', 'Sandhikharka'],\n",
       " 'Jhapa': ['Chnadra Gadhi', 'Gaida (Kankai)']}"
      ]
     },
     "metadata": {},
     "execution_count": 35
    }
   ],
   "source": [
    "p"
   ]
  },
  {
   "cell_type": "code",
   "execution_count": 10,
   "metadata": {},
   "outputs": [
    {
     "output_type": "execute_result",
     "data": {
      "text/plain": [
       "array(['Achham', 'ACHHAM', 'Arghakhanchi', 'Jhapa'], dtype=object)"
      ]
     },
     "metadata": {},
     "execution_count": 10
    }
   ],
   "source": [
    "stations['district'].unique()"
   ]
  },
  {
   "cell_type": "code",
   "execution_count": 19,
   "metadata": {},
   "outputs": [
    {
     "output_type": "error",
     "ename": "TypeError",
     "evalue": "'Series' objects are mutable, thus they cannot be hashed",
     "traceback": [
      "\u001b[0;31m---------------------------------------------------------------------------\u001b[0m",
      "\u001b[0;31mTypeError\u001b[0m                                 Traceback (most recent call last)",
      "\u001b[0;32m<ipython-input-19-44f22422a7fd>\u001b[0m in \u001b[0;36m<module>\u001b[0;34m\u001b[0m\n\u001b[0;32m----> 1\u001b[0;31m \u001b[0mp\u001b[0m \u001b[0;34m=\u001b[0m \u001b[0;34m{\u001b[0m\u001b[0mstations\u001b[0m\u001b[0;34m[\u001b[0m\u001b[0;34m'district'\u001b[0m\u001b[0;34m]\u001b[0m\u001b[0;34m:\u001b[0m \u001b[0;34m[\u001b[0m\u001b[0mstations\u001b[0m\u001b[0;34m[\u001b[0m\u001b[0;34m'formal_name'\u001b[0m\u001b[0;34m]\u001b[0m\u001b[0;34m]\u001b[0m\u001b[0;34m}\u001b[0m\u001b[0;34m\u001b[0m\u001b[0;34m\u001b[0m\u001b[0m\n\u001b[0m",
      "\u001b[0;32m~/development_tools/pyenv/mlenv/lib/python3.9/site-packages/pandas/core/generic.py\u001b[0m in \u001b[0;36m__hash__\u001b[0;34m(self)\u001b[0m\n\u001b[1;32m   1783\u001b[0m \u001b[0;34m\u001b[0m\u001b[0m\n\u001b[1;32m   1784\u001b[0m     \u001b[0;32mdef\u001b[0m \u001b[0m__hash__\u001b[0m\u001b[0;34m(\u001b[0m\u001b[0mself\u001b[0m\u001b[0;34m)\u001b[0m \u001b[0;34m->\u001b[0m \u001b[0mint\u001b[0m\u001b[0;34m:\u001b[0m\u001b[0;34m\u001b[0m\u001b[0;34m\u001b[0m\u001b[0m\n\u001b[0;32m-> 1785\u001b[0;31m         raise TypeError(\n\u001b[0m\u001b[1;32m   1786\u001b[0m             \u001b[0;34mf\"{repr(type(self).__name__)} objects are mutable, \"\u001b[0m\u001b[0;34m\u001b[0m\u001b[0;34m\u001b[0m\u001b[0m\n\u001b[1;32m   1787\u001b[0m             \u001b[0;34mf\"thus they cannot be hashed\"\u001b[0m\u001b[0;34m\u001b[0m\u001b[0;34m\u001b[0m\u001b[0m\n",
      "\u001b[0;31mTypeError\u001b[0m: 'Series' objects are mutable, thus they cannot be hashed"
     ]
    }
   ],
   "source": [
    "p = {stations['district']: [stations['formal_name']]}"
   ]
  },
  {
   "cell_type": "code",
   "execution_count": 15,
   "metadata": {},
   "outputs": [],
   "source": [
    "places = {}\n",
    "for s in stations:\n",
    "    loc = []\n",
    "\n",
    "    places[s['district']] = [s['formal_name']]"
   ]
  },
  {
   "cell_type": "code",
   "execution_count": 17,
   "metadata": {},
   "outputs": [],
   "source": [
    "places['district'] = ['pokhara']"
   ]
  },
  {
   "cell_type": "code",
   "execution_count": 23,
   "metadata": {},
   "outputs": [],
   "source": [
    "places['district'] = 3"
   ]
  },
  {
   "cell_type": "code",
   "execution_count": 26,
   "metadata": {},
   "outputs": [
    {
     "output_type": "execute_result",
     "data": {
      "text/plain": [
       "True"
      ]
     },
     "metadata": {},
     "execution_count": 26
    }
   ],
   "source": [
    "'di' in places.keys()"
   ]
  },
  {
   "cell_type": "code",
   "execution_count": null,
   "metadata": {},
   "outputs": [],
   "source": []
  }
 ]
}