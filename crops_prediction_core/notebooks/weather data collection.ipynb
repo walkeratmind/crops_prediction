{
 "cells": [
  {
   "cell_type": "code",
   "execution_count": 1,
   "metadata": {},
   "outputs": [],
   "source": [
    "import os\n",
    "import pickle\n",
    "import time\n",
    "from collections import namedtuple\n",
    "from datetime import datetime, timedelta\n",
    "\n",
    "import pandas as pd\n",
    "import requests\n",
    "import tqdm\n",
    "import matplotlib.pyplot as plt\n",
    "\n",
    "import timeit\n",
    "import functools\n",
    "\n",
    "%matplotlib inline"
   ]
  },
  {
   "cell_type": "code",
   "execution_count": 2,
   "metadata": {},
   "outputs": [],
   "source": [
    "API_KEY = '340abe7ef770de43932468b8cd663dba'\n",
    "BASE_URL = 'https://api.darksky.net/forecast/{}/{},{}'"
   ]
  },
  {
   "cell_type": "code",
   "execution_count": 3,
   "metadata": {},
   "outputs": [],
   "source": [
    "features = [\n",
    "    'date',\n",
    "    'temperatureMean',\n",
    "    'dewPoint',\n",
    "    'pressure',\n",
    "    'humidity',\n",
    "    'temperatureMax',\n",
    "    'temperatureMin',\n",
    "    'precipProbability',\n",
    "]\n",
    "DailySummary = namedtuple('DailySummary', features)\n",
    "\n"
   ]
  },
  {
   "cell_type": "code",
   "execution_count": 4,
   "metadata": {},
   "outputs": [],
   "source": [
    "# timer decorator\n",
    "def timer(func):\n",
    "    \"\"\"Print function runtime\"\"\"\n",
    "\n",
    "    @functools.wraps(func)\n",
    "    def wrapper_timer(*args, **kwargs):\n",
    "        start_time = timeit.default_timer()\n",
    "        result = func(*args, **kwargs)\n",
    "        elapsed = timeit.default_timer() - start_time\n",
    "        print('Function {name!r} took {time:.4f} secs.'.format(name=func.__name__, time=elapsed))\n",
    "        return result\n",
    "\n",
    "    return wrapper_timer"
   ]
  },
  {
   "cell_type": "code",
   "execution_count": 18,
   "metadata": {},
   "outputs": [],
   "source": [
    "@timer\n",
    "def extract_weather_data(url, api_key, latlng, target_date, days):\n",
    "    records = []\n",
    "    for _ in tqdm.tqdm(range(days)):\n",
    "        request = BASE_URL.format(\n",
    "             API_KEY, latlng, target_date.strftime('%Y-%m-%dT%H:%M:%S')\n",
    "        )\n",
    "        response = requests.get(request)\n",
    "        if response.status_code == 200:\n",
    "\n",
    "            def get_mean_temp():\n",
    "                \"\"\"Return average temperature across a 24 hour period.\"\"\"\n",
    "                total_temp = 0\n",
    "                for i in range(len(hdata)):\n",
    "                    try:\n",
    "                        total_temp += hdata[i]['temperature']\n",
    "                    except KeyError:\n",
    "                        total_temp += hdata[i-1]['temperature']\n",
    "                meanTemp = total_temp / 24\n",
    "                return meanTemp\n",
    "\n",
    "            data = response.json()['daily']['data'][0]\n",
    "            hdata = response.json()['hourly']['data']\n",
    "            try:\n",
    "                records.append(\n",
    "                    DailySummary(\n",
    "                        date=target_date,\n",
    "                        temperatureMean=get_mean_temp(),\n",
    "                        dewPoint=data['dewPoint'],\n",
    "                        pressure=data['pressure'],\n",
    "                        humidity=data['humidity'],\n",
    "                        temperatureMax=data['temperatureMax'],\n",
    "                        temperatureMin=data['temperatureMin'],\n",
    "                        precipProbability=data['precipProbability'],\n",
    "                    )\n",
    "                )\n",
    "            except KeyError:\n",
    "                records.append(\n",
    "                    DailySummary(\n",
    "                        date=target_date,\n",
    "                        temperatureMean=get_mean_temp(),\n",
    "                        dewPoint=data['dewPoint'],\n",
    "                        pressure=data['pressure'],\n",
    "                        humidity=data['humidity'],\n",
    "                        temperatureMax=data['temperatureMax'],\n",
    "                        temperatureMin=data['temperatureMin'],\n",
    "                        precipProbability=0,\n",
    "                    )\n",
    "                )\n",
    "        # time.sleep(6)\n",
    "        target_date += timedelta(days=1)\n",
    "    return records\n",
    "\n"
   ]
  },
  {
   "cell_type": "code",
   "execution_count": 19,
   "metadata": {},
   "outputs": [],
   "source": [
    "# Do not run this cell when collecting data on day 2\n",
    "def get_target_date():\n",
    "    \"\"\"Return target date 1000 days prior to current date.\"\"\"\n",
    "    current_date = datetime.now()\n",
    "    target_date = current_date - timedelta(days=5)\n",
    "    return target_date\n",
    "\n",
    "target_date = get_target_date()\n",
    "\n"
   ]
  },
  {
   "cell_type": "code",
   "execution_count": 20,
   "metadata": {},
   "outputs": [
    {
     "name": "stderr",
     "output_type": "stream",
     "text": [
      "  0%|          | 0/5 [00:01<?, ?it/s]"
     ]
    },
    {
     "name": "stdout",
     "output_type": "stream",
     "text": [
      "Function 'extract_weather_data' took 1.5905 secs.\n"
     ]
    },
    {
     "name": "stderr",
     "output_type": "stream",
     "text": [
      "\n"
     ]
    }
   ],
   "source": [
    "latlng = '26.5833,87.9167'\n",
    "records = extract_weather_data(BASE_URL, API_KEY, latlng, target_date, 5)"
   ]
  },
  {
   "cell_type": "code",
   "execution_count": 21,
   "metadata": {},
   "outputs": [
    {
     "ename": "TypeError",
     "evalue": "object of type 'Response' has no len()",
     "output_type": "error",
     "traceback": [
      "\u001b[0;31m---------------------------------------------------------------------------\u001b[0m",
      "\u001b[0;31mTypeError\u001b[0m                                 Traceback (most recent call last)",
      "\u001b[0;32m<ipython-input-21-1a1456a2f9a1>\u001b[0m in \u001b[0;36m<module>\u001b[0;34m\u001b[0m\n\u001b[0;32m----> 1\u001b[0;31m \u001b[0mlen\u001b[0m\u001b[0;34m(\u001b[0m\u001b[0mrecords\u001b[0m\u001b[0;34m)\u001b[0m\u001b[0;34m\u001b[0m\u001b[0;34m\u001b[0m\u001b[0m\n\u001b[0m",
      "\u001b[0;31mTypeError\u001b[0m: object of type 'Response' has no len()"
     ]
    }
   ],
   "source": [
    "len(records)"
   ]
  },
  {
   "cell_type": "code",
   "execution_count": 9,
   "metadata": {},
   "outputs": [
    {
     "data": {
      "text/plain": [
       "[DailySummary(date=datetime.datetime(2020, 8, 23, 20, 34, 19, 763324), temperatureMean=81.42, dewPoint=77.6, pressure=1004.7, humidity=0.88, temperatureMax=88.59, temperatureMin=74.48, precipProbability=0.91),\n",
       " DailySummary(date=datetime.datetime(2020, 8, 24, 20, 34, 19, 763324), temperatureMean=83.13541666666667, dewPoint=79.61, pressure=1003.5, humidity=0.89, temperatureMax=90.15, temperatureMin=75.77, precipProbability=0.54),\n",
       " DailySummary(date=datetime.datetime(2020, 8, 25, 20, 34, 19, 763324), temperatureMean=86.21750000000002, dewPoint=79.87, pressure=1004.4, humidity=0.82, temperatureMax=95.03, temperatureMin=77.67, precipProbability=0.17),\n",
       " DailySummary(date=datetime.datetime(2020, 8, 26, 20, 34, 19, 763324), temperatureMean=83.98291666666665, dewPoint=77.2, pressure=1005.7, humidity=0.8, temperatureMax=90.8, temperatureMin=76.28, precipProbability=0.36),\n",
       " DailySummary(date=datetime.datetime(2020, 8, 27, 20, 34, 19, 763324), temperatureMean=82.93916666666668, dewPoint=75.55, pressure=1005.5, humidity=0.78, temperatureMax=91.28, temperatureMin=75.67, precipProbability=0.39)]"
      ]
     },
     "execution_count": 9,
     "metadata": {},
     "output_type": "execute_result"
    }
   ],
   "source": [
    "records"
   ]
  },
  {
   "cell_type": "code",
   "execution_count": 10,
   "metadata": {},
   "outputs": [],
   "source": [
    "# save records list\n",
    "# with open('records_pt1.pkl', 'wb') as f:\n",
    "#     pickle.dump(records, f)\n",
    "\n"
   ]
  },
  {
   "cell_type": "code",
   "execution_count": 11,
   "metadata": {},
   "outputs": [],
   "source": [
    "df = pd.DataFrame(records, columns=features).set_index('date')"
   ]
  },
  {
   "cell_type": "code",
   "execution_count": 14,
   "metadata": {},
   "outputs": [
    {
     "data": {
      "text/plain": [
       "'2020-08-28'"
      ]
     },
     "execution_count": 14,
     "metadata": {},
     "output_type": "execute_result"
    }
   ],
   "source": [
    "current_time = datetime.now()\n",
    "current_time.strftime(\"%Y-%m-%d\")"
   ]
  },
  {
   "cell_type": "code",
   "execution_count": 17,
   "metadata": {},
   "outputs": [],
   "source": [
    "df.to_csv('darksky/data-' + current_time.strftime(\"%Y-%m-%d\") + '.csv')"
   ]
  },
  {
   "cell_type": "code",
   "execution_count": null,
   "metadata": {},
   "outputs": [],
   "source": []
  }
 ],
 "metadata": {
  "kernelspec": {
   "display_name": "Python 3",
   "language": "python",
   "name": "python3"
  },
  "language_info": {
   "codemirror_mode": {
    "name": "ipython",
    "version": 3
   },
   "file_extension": ".py",
   "mimetype": "text/x-python",
   "name": "python",
   "nbconvert_exporter": "python",
   "pygments_lexer": "ipython3",
   "version": "3.9.4"
  }
 },
 "nbformat": 4,
 "nbformat_minor": 4
}
